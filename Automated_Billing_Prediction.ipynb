{
 "cells": [
  {
   "cell_type": "code",
   "execution_count": 3,
   "id": "4e725be0",
   "metadata": {},
   "outputs": [],
   "source": [
    "import numpy as np # linear algebra\n",
    "import pandas as pd # data processing, CSV file I/O (e.g. pd.read_csv)\n",
    "import os\n",
    "\n",
    "import pandas as pd\n",
    "import numpy as np\n",
    "import matplotlib.pyplot as plt\n",
    "import random as rn\n",
    "import scipy\n",
    "import os\n",
    "import shutil\n",
    "import math\n",
    "import scipy\n",
    "import cv2\n",
    "\n",
    "from sklearn.metrics import classification_report\n",
    "from sklearn.utils import shuffle\n",
    "from sklearn.model_selection import train_test_split\n",
    "from sklearn.preprocessing import LabelEncoder\n",
    "from sklearn.metrics import confusion_matrix,roc_curve,auc\n",
    "\n",
    "from PIL import Image\n",
    "from PIL import Image as pil_image\n",
    "from PIL import ImageDraw\n",
    "\n",
    "from time import time\n",
    "from glob import glob\n",
    "from tqdm import tqdm\n",
    "from skimage.io import imread\n",
    "from IPython.display import SVG\n",
    "\n",
    "from scipy import misc,ndimage\n",
    "from scipy.ndimage.interpolation import zoom\n",
    "\n",
    "from keras import backend as K\n",
    "from keras.utils.np_utils import to_categorical\n",
    "from keras import layers\n",
    "from keras.preprocessing.image import save_img\n",
    "from keras.utils.vis_utils import model_to_dot\n",
    "from keras.applications.vgg16 import VGG16,preprocess_input\n",
    "from keras.models import Sequential,Input,Model\n",
    "from keras.layers import Dense,Flatten,Dropout,Concatenate,GlobalAveragePooling2D,Lambda,ZeroPadding2D\n",
    "from keras.layers import SeparableConv2D,BatchNormalization,MaxPooling2D,Conv2D\n",
    "from keras.preprocessing.image import ImageDataGenerator\n",
    "from tensorflow.keras.optimizers import Adam,SGD\n",
    "from keras.utils.vis_utils import plot_model\n",
    "import matplotlib.pyplot as plt\n",
    "#from keras.applications.densenet import DenseNet121, preprocess_input\n",
    "from keras.preprocessing.image import ImageDataGenerator\n",
    "from keras.layers import Input\n",
    "from keras.models import Model\n",
    "from keras.layers import Dense\n",
    "from tensorflow.keras.optimizers import Adam\n",
    "#from generator import DataGenerator\n",
    "import keras\n",
    "from keras.callbacks import ModelCheckpoint\n",
    "from keras.callbacks import ModelCheckpoint,EarlyStopping,TensorBoard,CSVLogger,ReduceLROnPlateau,LearningRateScheduler"
   ]
  },
  {
   "cell_type": "code",
   "execution_count": 4,
   "id": "3e3b76b3",
   "metadata": {},
   "outputs": [],
   "source": [
    "def label_assignment(img,label):\n",
    "    return label\n",
    "\n",
    "def training_data(label,data_dir):\n",
    "    for img in tqdm(os.listdir(data_dir)):\n",
    "        label = label_assignment(img,label)\n",
    "        path = os.path.join(data_dir,img)\n",
    "        img = cv2.imread(path,cv2.IMREAD_COLOR)\n",
    "        img = cv2.resize(img,(imgsize,imgsize))\n",
    "        \n",
    "        X.append(np.array(img))\n",
    "        Z.append(str(label))"
   ]
  },
  {
   "cell_type": "code",
   "execution_count": 5,
   "id": "bc15c173",
   "metadata": {},
   "outputs": [],
   "source": [
    "apricot = 'D:\\Education\\Automated Billing\\Fruit DataSet\\Images\\APRICOT'\n",
    "avocado = 'D:\\Education\\Automated Billing\\Fruit DataSet\\Images\\AVOCADO'\n",
    "beetroot= 'D:\\Education\\Automated Billing\\Fruit DataSet\\Images\\BEETROOT'\n",
    "blueberry = 'D:\\Education\\Automated Billing\\Fruit DataSet\\Images\\BLUEBERRY'\n",
    "cauliflower = 'D:\\Education\\Automated Billing\\Fruit DataSet\\Images\\CAULIFLOWER'\n",
    "dates = 'D:\\Education\\Automated Billing\\Fruit DataSet\\Images\\DATES'\n",
    "ginger_root = 'D:\\Education\\Automated Billing\\Fruit DataSet\\Images\\GINGER_ROOT'\n",
    "guava = 'D:\\Education\\Automated Billing\\Fruit DataSet\\Images\\GUAVA'\n",
    "kiwi= 'D:\\Education\\Automated Billing\\Fruit DataSet\\Images\\KIWI'\n",
    "lychee = 'D:\\Education\\Automated Billing\\Fruit DataSet\\Images\\LYCHEE'\n",
    "orange = 'D:\\Education\\Automated Billing\\Fruit DataSet\\Images\\ORANGE'\n",
    "papaya = 'D:\\Education\\Automated Billing\\Fruit DataSet\\Images\\PAPAYA'\n",
    "rasbery = 'D:\\Education\\Automated Billing\\Fruit DataSet\\Images\\RASPBERY'\n",
    "walnut = 'D:\\Education\\Automated Billing\\Fruit DataSet\\Images\\WALNUT'\n",
    "apple = 'D:\\Education\\Automated Billing\\Fruit DataSet\\Images\\APPLE'\n",
    "pineapple = 'D:\\Education\\Automated Billing\\Fruit DataSet\\Images\\PINEAPPLE'\n",
    "strawberry = 'D:\\Education\\Automated Billing\\Fruit DataSet\\Images\\STRAWBERRY'\n",
    "\n",
    "X = []\n",
    "Z = []\n",
    "imgsize = 150"
   ]
  },
  {
   "cell_type": "code",
   "execution_count": 6,
   "id": "62de2ab3",
   "metadata": {},
   "outputs": [],
   "source": [
    "def vv():\n",
    "    base_model = VGG16(include_top=False,\n",
    "                  input_shape = (imgsize,imgsize,3),\n",
    "                  weights = 'imagenet')\n",
    "\n",
    "    for layer in base_model.layers:\n",
    "        layer.trainable = False\n",
    "    \n",
    "    for layer in base_model.layers:\n",
    "        print(layer,layer.trainable)\n",
    "\n",
    "    model = Sequential()\n",
    "    model.add(base_model)\n",
    "    model.add(GlobalAveragePooling2D())\n",
    "    model.add(Dropout(0.3))\n",
    "    model.add(Dense(17,activation='softmax'))\n",
    "    return model"
   ]
  },
  {
   "cell_type": "code",
   "execution_count": 8,
   "id": "bede77cc",
   "metadata": {},
   "outputs": [
    {
     "name": "stdout",
     "output_type": "stream",
     "text": [
      "<keras.engine.input_layer.InputLayer object at 0x000002874544BB20> False\n",
      "<keras.layers.convolutional.Conv2D object at 0x000002874544B490> False\n",
      "<keras.layers.convolutional.Conv2D object at 0x0000028745445D90> False\n",
      "<keras.layers.pooling.MaxPooling2D object at 0x000002874530E520> False\n",
      "<keras.layers.convolutional.Conv2D object at 0x0000028719B1BC70> False\n",
      "<keras.layers.convolutional.Conv2D object at 0x00000287452F0EB0> False\n",
      "<keras.layers.pooling.MaxPooling2D object at 0x00000287442939A0> False\n",
      "<keras.layers.convolutional.Conv2D object at 0x00000287442E6D60> False\n",
      "<keras.layers.convolutional.Conv2D object at 0x00000287442C1C10> False\n",
      "<keras.layers.convolutional.Conv2D object at 0x0000028745480100> False\n",
      "<keras.layers.pooling.MaxPooling2D object at 0x000002874547C250> False\n",
      "<keras.layers.convolutional.Conv2D object at 0x00000287454807F0> False\n",
      "<keras.layers.convolutional.Conv2D object at 0x00000287454818B0> False\n",
      "<keras.layers.convolutional.Conv2D object at 0x00000287452F8BE0> False\n",
      "<keras.layers.pooling.MaxPooling2D object at 0x000002874547CD90> False\n",
      "<keras.layers.convolutional.Conv2D object at 0x0000028745481640> False\n",
      "<keras.layers.convolutional.Conv2D object at 0x000002874548C730> False\n",
      "<keras.layers.convolutional.Conv2D object at 0x00000287454871C0> False\n",
      "<keras.layers.pooling.MaxPooling2D object at 0x0000028745495760> False\n"
     ]
    }
   ],
   "source": [
    "model=vv()\n",
    "model.load_weights(\"D:\\Education\\Automated Billing\\weights.best.hdf5\");"
   ]
  },
  {
   "cell_type": "code",
   "execution_count": 9,
   "id": "67675ec6",
   "metadata": {},
   "outputs": [],
   "source": [
    "dict = {\n",
    "    1:\"Apricot\",\n",
    "    2:\"Avocado\",\n",
    "    3:\"Beetroot\",\n",
    "    4:\"Blueberry\",\n",
    "    5:\"Cauliflower\",\n",
    "    6:\"Dates\",\n",
    "    7:\"Ginger_root\",\n",
    "    8:\"Guava\",\n",
    "    9:\"Kiwi\",\n",
    "    10:\"Lychee\",\n",
    "    11:\"Orange\",\n",
    "    12:\"Papaya\",\n",
    "    14:\"Rasbery\",\n",
    "    16:\"Walnut\",\n",
    "    1:\"Apple\",\n",
    "    13:\"Pineapple\",\n",
    "    15:\"Strawberry\"\n",
    "}"
   ]
  },
  {
   "cell_type": "code",
   "execution_count": 13,
   "id": "59585706",
   "metadata": {},
   "outputs": [],
   "source": [
    "imgsize = 150\n",
    "\n",
    "def testing_data(data_dir):\n",
    "    TT = []\n",
    "    for img in tqdm(os.listdir(data_dir)):\n",
    "        path = os.path.join(data_dir,img)\n",
    "        img = cv2.imread(path,cv2.IMREAD_COLOR)\n",
    "        img = cv2.resize(img,(imgsize,imgsize))\n",
    "        TT.append(np.array(img))\n",
    "        TT = np.array(TT)\n",
    "        TT=TT/255"
   ]
  },
  {
   "cell_type": "code",
   "execution_count": 14,
   "id": "ba34d463",
   "metadata": {},
   "outputs": [
    {
     "name": "stderr",
     "output_type": "stream",
     "text": [
      "100%|███████████████████████████████████████████████████████████████████████████████████| 1/1 [00:00<00:00, 463.36it/s]"
     ]
    },
    {
     "name": "stdout",
     "output_type": "stream",
     "text": [
      "Cauliflower\n"
     ]
    },
    {
     "name": "stderr",
     "output_type": "stream",
     "text": [
      "\n"
     ]
    }
   ],
   "source": [
    "path='D:\\Education\\Automated Billing\\Testing'\n",
    "\n",
    "#testing_data(path)\n",
    "TT = []\n",
    "for img in tqdm(os.listdir(path)):\n",
    "    path = os.path.join(path,img)\n",
    "    img = cv2.imread(path,cv2.IMREAD_COLOR)\n",
    "    img = cv2.resize(img,(imgsize,imgsize))\n",
    "    TT.append(np.array(img))\n",
    "    TT = np.array(TT)\n",
    "    TT=TT/255\n",
    "    \n",
    "y_pred = model.predict(TT)\n",
    "for i in range(len(y_pred)):\n",
    "    print(dict[np.argmax(y_pred[i])])"
   ]
  },
  {
   "cell_type": "code",
   "execution_count": null,
   "id": "2c4508d3",
   "metadata": {},
   "outputs": [],
   "source": []
  },
  {
   "cell_type": "code",
   "execution_count": null,
   "id": "5a9b50e5",
   "metadata": {},
   "outputs": [],
   "source": []
  }
 ],
 "metadata": {
  "kernelspec": {
   "display_name": "Python 3 (ipykernel)",
   "language": "python",
   "name": "python3"
  },
  "language_info": {
   "codemirror_mode": {
    "name": "ipython",
    "version": 3
   },
   "file_extension": ".py",
   "mimetype": "text/x-python",
   "name": "python",
   "nbconvert_exporter": "python",
   "pygments_lexer": "ipython3",
   "version": "3.9.4"
  }
 },
 "nbformat": 4,
 "nbformat_minor": 5
}
